{
 "cells": [
  {
   "cell_type": "code",
   "execution_count": 1,
   "id": "032ee75c",
   "metadata": {},
   "outputs": [],
   "source": [
    "import pandas as pd\n",
    "import numpy as np\n",
    "import matplotlib.pyplot as plt\n",
    "import datetime"
   ]
  },
  {
   "cell_type": "code",
   "execution_count": 2,
   "id": "be020535",
   "metadata": {
    "scrolled": true
   },
   "outputs": [
    {
     "data": {
      "text/html": [
       "<div>\n",
       "<style scoped>\n",
       "    .dataframe tbody tr th:only-of-type {\n",
       "        vertical-align: middle;\n",
       "    }\n",
       "\n",
       "    .dataframe tbody tr th {\n",
       "        vertical-align: top;\n",
       "    }\n",
       "\n",
       "    .dataframe thead th {\n",
       "        text-align: right;\n",
       "    }\n",
       "</style>\n",
       "<table border=\"1\" class=\"dataframe\">\n",
       "  <thead>\n",
       "    <tr style=\"text-align: right;\">\n",
       "      <th></th>\n",
       "      <th>Alimento</th>\n",
       "      <th>Calorias (Kcal)</th>\n",
       "      <th>Porção (g)</th>\n",
       "      <th>Colheres de Sopa</th>\n",
       "      <th>Unidade</th>\n",
       "      <th>Carboidratos (g)</th>\n",
       "      <th>Proteínas (g)</th>\n",
       "      <th>Gorduras (g)</th>\n",
       "      <th>Fonte dos Dados</th>\n",
       "    </tr>\n",
       "  </thead>\n",
       "  <tbody>\n",
       "    <tr>\n",
       "      <th>0</th>\n",
       "      <td>Arroz Branco</td>\n",
       "      <td>97</td>\n",
       "      <td>100.0</td>\n",
       "      <td>6.6</td>\n",
       "      <td>NaN</td>\n",
       "      <td>26.30</td>\n",
       "      <td>2.60</td>\n",
       "      <td>0.20</td>\n",
       "      <td>(TACO)</td>\n",
       "    </tr>\n",
       "    <tr>\n",
       "      <th>1</th>\n",
       "      <td>Feijão Preto</td>\n",
       "      <td>132</td>\n",
       "      <td>100.0</td>\n",
       "      <td>6.6</td>\n",
       "      <td>NaN</td>\n",
       "      <td>15.40</td>\n",
       "      <td>9.00</td>\n",
       "      <td>1.40</td>\n",
       "      <td>(TACO)</td>\n",
       "    </tr>\n",
       "    <tr>\n",
       "      <th>2</th>\n",
       "      <td>Filé de Frango (grelhado)</td>\n",
       "      <td>165</td>\n",
       "      <td>100.0</td>\n",
       "      <td>NaN</td>\n",
       "      <td>1.0</td>\n",
       "      <td>23.60</td>\n",
       "      <td>31.00</td>\n",
       "      <td>3.60</td>\n",
       "      <td>(TACO)</td>\n",
       "    </tr>\n",
       "    <tr>\n",
       "      <th>3</th>\n",
       "      <td>Filé de Contrafilé (grelhado)</td>\n",
       "      <td>194</td>\n",
       "      <td>100.0</td>\n",
       "      <td>NaN</td>\n",
       "      <td>1.0</td>\n",
       "      <td>0.00</td>\n",
       "      <td>35.00</td>\n",
       "      <td>4.50</td>\n",
       "      <td>(TACO)</td>\n",
       "    </tr>\n",
       "    <tr>\n",
       "      <th>4</th>\n",
       "      <td>Filé de Pescada Frito (Tilápia)</td>\n",
       "      <td>171</td>\n",
       "      <td>100.0</td>\n",
       "      <td>NaN</td>\n",
       "      <td>1.0</td>\n",
       "      <td>0.00</td>\n",
       "      <td>28.60</td>\n",
       "      <td>8.10</td>\n",
       "      <td>(TACO)</td>\n",
       "    </tr>\n",
       "    <tr>\n",
       "      <th>5</th>\n",
       "      <td>Ovo de Galinha Frito</td>\n",
       "      <td>95</td>\n",
       "      <td>50.0</td>\n",
       "      <td>NaN</td>\n",
       "      <td>1.0</td>\n",
       "      <td>5.50</td>\n",
       "      <td>6.30</td>\n",
       "      <td>6.80</td>\n",
       "      <td>(TACO)</td>\n",
       "    </tr>\n",
       "    <tr>\n",
       "      <th>6</th>\n",
       "      <td>Ovo de Galinha Cozido</td>\n",
       "      <td>78</td>\n",
       "      <td>50.0</td>\n",
       "      <td>NaN</td>\n",
       "      <td>1.0</td>\n",
       "      <td>5.50</td>\n",
       "      <td>6.30</td>\n",
       "      <td>5.30</td>\n",
       "      <td>(TACO)</td>\n",
       "    </tr>\n",
       "    <tr>\n",
       "      <th>7</th>\n",
       "      <td>Azeite de Oliva Extra Virgem</td>\n",
       "      <td>884</td>\n",
       "      <td>100.0</td>\n",
       "      <td>7.5</td>\n",
       "      <td>NaN</td>\n",
       "      <td>0.00</td>\n",
       "      <td>0.00</td>\n",
       "      <td>100.00</td>\n",
       "      <td>(FatSecret)</td>\n",
       "    </tr>\n",
       "    <tr>\n",
       "      <th>8</th>\n",
       "      <td>Banana Nanica</td>\n",
       "      <td>92</td>\n",
       "      <td>100.0</td>\n",
       "      <td>NaN</td>\n",
       "      <td>1.0</td>\n",
       "      <td>23.80</td>\n",
       "      <td>1.40</td>\n",
       "      <td>0.40</td>\n",
       "      <td>(TACO)</td>\n",
       "    </tr>\n",
       "    <tr>\n",
       "      <th>9</th>\n",
       "      <td>Maçã Fuji</td>\n",
       "      <td>18</td>\n",
       "      <td>182.0</td>\n",
       "      <td>NaN</td>\n",
       "      <td>1.0</td>\n",
       "      <td>4.83</td>\n",
       "      <td>0.09</td>\n",
       "      <td>0.06</td>\n",
       "      <td>(TACO)</td>\n",
       "    </tr>\n",
       "    <tr>\n",
       "      <th>10</th>\n",
       "      <td>Whey Morango Growth</td>\n",
       "      <td>127</td>\n",
       "      <td>30.0</td>\n",
       "      <td>NaN</td>\n",
       "      <td>1.0</td>\n",
       "      <td>4.00</td>\n",
       "      <td>23.00</td>\n",
       "      <td>2.00</td>\n",
       "      <td>(Growth)</td>\n",
       "    </tr>\n",
       "    <tr>\n",
       "      <th>11</th>\n",
       "      <td>Aveia em Flocos (Nestlé)</td>\n",
       "      <td>110</td>\n",
       "      <td>30.0</td>\n",
       "      <td>3.0</td>\n",
       "      <td>NaN</td>\n",
       "      <td>16.00</td>\n",
       "      <td>4.60</td>\n",
       "      <td>2.30</td>\n",
       "      <td>(Nestlé)</td>\n",
       "    </tr>\n",
       "    <tr>\n",
       "      <th>12</th>\n",
       "      <td>Hipercalórico</td>\n",
       "      <td>229</td>\n",
       "      <td>60.0</td>\n",
       "      <td>NaN</td>\n",
       "      <td>1.0</td>\n",
       "      <td>50.00</td>\n",
       "      <td>6.00</td>\n",
       "      <td>0.50</td>\n",
       "      <td>Embalagem</td>\n",
       "    </tr>\n",
       "    <tr>\n",
       "      <th>13</th>\n",
       "      <td>Leite Integral</td>\n",
       "      <td>117</td>\n",
       "      <td>NaN</td>\n",
       "      <td>NaN</td>\n",
       "      <td>1.0</td>\n",
       "      <td>9.60</td>\n",
       "      <td>6.20</td>\n",
       "      <td>6.00</td>\n",
       "      <td>Italac</td>\n",
       "    </tr>\n",
       "    <tr>\n",
       "      <th>14</th>\n",
       "      <td>Whey (Itambé)</td>\n",
       "      <td>145</td>\n",
       "      <td>NaN</td>\n",
       "      <td>NaN</td>\n",
       "      <td>1.0</td>\n",
       "      <td>14.00</td>\n",
       "      <td>15.00</td>\n",
       "      <td>2.50</td>\n",
       "      <td>Embalagem</td>\n",
       "    </tr>\n",
       "    <tr>\n",
       "      <th>15</th>\n",
       "      <td>Pão (Maçã, quinoa e castanha)</td>\n",
       "      <td>126</td>\n",
       "      <td>50.0</td>\n",
       "      <td>NaN</td>\n",
       "      <td>2.0</td>\n",
       "      <td>18.00</td>\n",
       "      <td>7.50</td>\n",
       "      <td>2.60</td>\n",
       "      <td>Embalagem</td>\n",
       "    </tr>\n",
       "  </tbody>\n",
       "</table>\n",
       "</div>"
      ],
      "text/plain": [
       "                           Alimento  Calorias (Kcal)  Porção (g)  \\\n",
       "0                      Arroz Branco               97       100.0   \n",
       "1                      Feijão Preto              132       100.0   \n",
       "2         Filé de Frango (grelhado)              165       100.0   \n",
       "3     Filé de Contrafilé (grelhado)              194       100.0   \n",
       "4   Filé de Pescada Frito (Tilápia)              171       100.0   \n",
       "5              Ovo de Galinha Frito               95        50.0   \n",
       "6             Ovo de Galinha Cozido               78        50.0   \n",
       "7      Azeite de Oliva Extra Virgem              884       100.0   \n",
       "8                     Banana Nanica               92       100.0   \n",
       "9                         Maçã Fuji               18       182.0   \n",
       "10              Whey Morango Growth              127        30.0   \n",
       "11         Aveia em Flocos (Nestlé)              110        30.0   \n",
       "12                    Hipercalórico              229        60.0   \n",
       "13                   Leite Integral              117         NaN   \n",
       "14                    Whey (Itambé)              145         NaN   \n",
       "15    Pão (Maçã, quinoa e castanha)              126        50.0   \n",
       "\n",
       "    Colheres de Sopa  Unidade  Carboidratos (g)  Proteínas (g)  Gorduras (g)  \\\n",
       "0                6.6      NaN             26.30           2.60          0.20   \n",
       "1                6.6      NaN             15.40           9.00          1.40   \n",
       "2                NaN      1.0             23.60          31.00          3.60   \n",
       "3                NaN      1.0              0.00          35.00          4.50   \n",
       "4                NaN      1.0              0.00          28.60          8.10   \n",
       "5                NaN      1.0              5.50           6.30          6.80   \n",
       "6                NaN      1.0              5.50           6.30          5.30   \n",
       "7                7.5      NaN              0.00           0.00        100.00   \n",
       "8                NaN      1.0             23.80           1.40          0.40   \n",
       "9                NaN      1.0              4.83           0.09          0.06   \n",
       "10               NaN      1.0              4.00          23.00          2.00   \n",
       "11               3.0      NaN             16.00           4.60          2.30   \n",
       "12               NaN      1.0             50.00           6.00          0.50   \n",
       "13               NaN      1.0              9.60           6.20          6.00   \n",
       "14               NaN      1.0             14.00          15.00          2.50   \n",
       "15               NaN      2.0             18.00           7.50          2.60   \n",
       "\n",
       "   Fonte dos Dados  \n",
       "0           (TACO)  \n",
       "1           (TACO)  \n",
       "2           (TACO)  \n",
       "3           (TACO)  \n",
       "4           (TACO)  \n",
       "5           (TACO)  \n",
       "6           (TACO)  \n",
       "7      (FatSecret)  \n",
       "8           (TACO)  \n",
       "9           (TACO)  \n",
       "10        (Growth)  \n",
       "11        (Nestlé)  \n",
       "12       Embalagem  \n",
       "13          Italac  \n",
       "14       Embalagem  \n",
       "15       Embalagem  "
      ]
     },
     "execution_count": 2,
     "metadata": {},
     "output_type": "execute_result"
    }
   ],
   "source": [
    "alimentos = pd.read_csv('alimentos.csv', sep=',')\n",
    "alimentos"
   ]
  },
  {
   "cell_type": "code",
   "execution_count": null,
   "id": "31fc0c53",
   "metadata": {
    "scrolled": false
   },
   "outputs": [],
   "source": [
    "'''\n",
    "def verificar_medida(id):\n",
    "    if pd.isnull(alimentos.loc[id, 'Colheres de Sopa']):\n",
    "        print('Está em unidades')\n",
    "    else:\n",
    "        print('Está em colheres de sopa')\n",
    "'''"
   ]
  },
  {
   "cell_type": "code",
   "execution_count": null,
   "id": "6c611449",
   "metadata": {},
   "outputs": [],
   "source": [
    "novo_alimento = pd.DataFrame([{\n",
    "    'Alimento': 'Pão (Maçã, quinoa e castanha)',\n",
    "    'Calorias (Kcal)': 126,\n",
    "    'Porção (g)': 50,\n",
    "    'Colheres de Sopa': float('nan'),\n",
    "    'Unidade': 2,\n",
    "    'Carboidratos (g)': 18,\n",
    "    'Proteínas (g)': 7.5,\n",
    "    'Gorduras (g)': 2.6,\n",
    "    'Fonte dos Dados': 'Embalagem'\n",
    "}])\n",
    "\n",
    "alimentos = pd.concat([alimentos, novo_alimento], ignore_index=True)\n",
    "alimentos.to_csv('alimentos.csv', index=False)"
   ]
  },
  {
   "cell_type": "markdown",
   "id": "51aae5e6",
   "metadata": {},
   "source": [
    "## funcao com input()"
   ]
  },
  {
   "cell_type": "code",
   "execution_count": null,
   "id": "326e6382",
   "metadata": {},
   "outputs": [],
   "source": [
    "lista_codg = []\n",
    "lista_aux = []\n",
    "aux = 0\n",
    "\n",
    "def alimento():\n",
    "\n",
    "    #codg = int(input('\\nCódigo númerico do alimento: '))\n",
    "    lista_codg.append(codg)\n",
    "    \n",
    "    qnt = float(input('Colheres de sopa ou unidades: '))\n",
    "    \n",
    "    if (pd.isnull(alimentos.loc[codg, 'Unidade'])):\n",
    "        aux = qnt/alimentos.loc[codg, 'Colheres de Sopa']\n",
    "    else:\n",
    "        aux = qnt/alimentos.loc[codg, 'Unidade']\n",
    "        \n",
    "    lista_aux.append(aux)\n",
    "    \n",
    "def refeicao():\n",
    "    \n",
    "    flag = True\n",
    "\n",
    "    while flag:\n",
    "\n",
    "        alimento()\n",
    "\n",
    "        outro = input('\\nInserir outro alimento?(s/n): ')\n",
    "\n",
    "        if (outro == 'N' or outro == 'n'):\n",
    "            flag = False\n",
    "\n",
    "\n",
    "    #mostra os valores da refeição\n",
    "\n",
    "    calt = 0\n",
    "    carb = 0\n",
    "    prot = 0\n",
    "    gord = 0\n",
    "\n",
    "    for i in range(len(lista_codg)):\n",
    "        calt = calt + lista_aux[i] * alimentos.loc[lista_codg[i],'Calorias (Kcal)']\n",
    "        carb = carb + lista_aux[i] * alimentos.loc[lista_codg[i],'Carboidratos (g)']\n",
    "        prot = prot + lista_aux[i] * alimentos.loc[lista_codg[i],'Proteínas (g)']\n",
    "        gord = gord + lista_aux[i] * alimentos.loc[lista_codg[i],'Gorduras (g)']\n",
    "\n",
    "\n",
    "    print('\\nAqui estão algumas informações nutricionais sobre sua refeição:')    \n",
    "    print('Calorias (Kcal): ', round(calt, 2))\n",
    "    print('Carboidratos (g): ', round(carb, 2))\n",
    "    print('Proteínas (g): ', round(prot, 2))\n",
    "    print('Gorduras (g): ', round(gord, 2))\n",
    "    \n",
    "    return {'Calorias (Kcal)': round(calt, 2),\n",
    "            'Carboidratos (g)': round(carb, 2),\n",
    "            'Proteínas (g)': round(prot, 2),\n",
    "            'Gorduras (g)': round(gord, 2)}"
   ]
  },
  {
   "cell_type": "markdown",
   "id": "bd64e1be",
   "metadata": {},
   "source": [
    "## funcao sem input()"
   ]
  },
  {
   "cell_type": "code",
   "execution_count": 3,
   "id": "ca362184",
   "metadata": {},
   "outputs": [],
   "source": [
    "def refeicao_sem_input(dicionario):\n",
    "    \n",
    "    nomes_alimentos = list(dicionario.keys())\n",
    "    medidas_alimentos = list(dicionario.values())\n",
    "    calt, carb, prot, gord = [0,0,0,0]\n",
    "    \n",
    "    for i in range(len(dicionario)):\n",
    "        indice = alimentos.loc[alimentos['Alimento'] == nomes_alimentos[i]].index[0]\n",
    "        \n",
    "        if (np.isnan(alimentos.loc[indice, 'Unidade'])):\n",
    "            aux = medidas_alimentos[i]/alimentos.loc[indice, 'Colheres de Sopa']\n",
    "        else:\n",
    "            aux = medidas_alimentos[i]/alimentos.loc[indice, 'Unidade']\n",
    "            \n",
    "        medidas_alimentos[i] = aux\n",
    "   \n",
    "        calt = calt + medidas_alimentos[i] * alimentos.loc[indice,'Calorias (Kcal)']\n",
    "        carb = carb + medidas_alimentos[i] * alimentos.loc[indice,'Carboidratos (g)']\n",
    "        prot = prot + medidas_alimentos[i] * alimentos.loc[indice,'Proteínas (g)']\n",
    "        gord = gord + medidas_alimentos[i] * alimentos.loc[indice,'Gorduras (g)']\n",
    "\n",
    "\n",
    "        \n",
    "    informacoes = {'Calorias (Kcal)': round(calt, 2),\n",
    "                   'Carboidratos (g)': round(carb, 2),\n",
    "                   'Proteínas (g)': round(prot, 2),\n",
    "                   'Gorduras (g)': round(gord, 2)}\n",
    "    \n",
    "    return informacoes"
   ]
  },
  {
   "cell_type": "markdown",
   "id": "079446ad",
   "metadata": {},
   "source": [
    "## funcao para calcular valores diarios"
   ]
  },
  {
   "cell_type": "code",
   "execution_count": 4,
   "id": "90314a49",
   "metadata": {},
   "outputs": [],
   "source": [
    "def valor_diario(refeicoes):\n",
    "    calt, carb, prot, gord = [0,0,0,0]\n",
    "    \n",
    "    for i in range(len(refeicoes)):\n",
    "        calt = calt + refeicoes[i]['Calorias (Kcal)']\n",
    "        carb = carb + refeicoes[i]['Carboidratos (g)']\n",
    "        prot = prot + refeicoes[i]['Proteínas (g)']\n",
    "        gord = gord + refeicoes[i]['Gorduras (g)']\n",
    "    \n",
    "    return [round(calt, 2),round(carb, 2),round(prot, 2),round(gord, 2)]"
   ]
  },
  {
   "cell_type": "markdown",
   "id": "3003bf1c",
   "metadata": {},
   "source": [
    "### 17/06\n",
    "\n",
    "cafe_da_manha = {\n",
    "    'Banana Nanica': 1,\n",
    "    'Leite Integral': 0.5,\n",
    "    'Hipercalórico': 0.5,\n",
    "    'Aveia em Flocos (Nestlé)': 3,\n",
    "    'Ovo de Galinha Cozido': 3\n",
    "}\n",
    "\n",
    "almoco = {\n",
    "    'Arroz Branco': 8,\n",
    "    'Feijão Preto': 8,\n",
    "    'Filé de Contrafilé (grelhado)': 1.5,\n",
    "    'Azeite de Oliva Extra Virgem': 1\n",
    "}\n",
    "\n",
    "cafe_da_tarde = {\n",
    "    'Hipercalórico': 0.5,\n",
    "    'Whey (Itambé)': 2\n",
    "}\n",
    "\n",
    "janta = {\n",
    "    'Arroz Branco': 6,\n",
    "    'Feijão Preto': 4,\n",
    "    'Filé de Frango (grelhado)': 1.5,\n",
    "    'Azeite de Oliva Extra Virgem': 1\n",
    "}"
   ]
  },
  {
   "cell_type": "code",
   "execution_count": 86,
   "id": "1978f2ae",
   "metadata": {},
   "outputs": [],
   "source": [
    "### 18/06\n",
    "\n",
    "cafe_da_manha = {\n",
    "    'Leite Integral': 0.5,\n",
    "    'Hipercalórico': 0.5,\n",
    "    'Ovo de Galinha Cozido': 2\n",
    "}\n",
    "\n",
    "almoco = {\n",
    "    'Arroz Branco': 6,\n",
    "    'Feijão Preto': 4,\n",
    "    'Filé de Frango (grelhado)': 1,\n",
    "    'Azeite de Oliva Extra Virgem': 1\n",
    "}\n",
    "\n",
    "cafe_da_tarde = {\n",
    "    'Hipercalórico': 1,\n",
    "    'Aveia em Flocos (Nestlé)': 4,\n",
    "    'Banana Nanica': 1,\n",
    "    'Leite Integral': 0.5\n",
    "    \n",
    "}\n",
    "\n",
    "janta = {\n",
    "    'Arroz Branco': 6,\n",
    "    'Feijão Preto': 6,\n",
    "    'Filé de Contrafilé (grelhado)': 1,\n",
    "    'Azeite de Oliva Extra Virgem': 1,\n",
    "    'Ovo de Galinha Frito': 2\n",
    "}"
   ]
  },
  {
   "cell_type": "code",
   "execution_count": 87,
   "id": "76d2afc3",
   "metadata": {
    "scrolled": false
   },
   "outputs": [
    {
     "data": {
      "text/plain": [
       "{'Calorias (Kcal)': 329.0,\n",
       " 'Carboidratos (g)': 40.8,\n",
       " 'Proteínas (g)': 18.7,\n",
       " 'Gorduras (g)': 13.85}"
      ]
     },
     "execution_count": 87,
     "metadata": {},
     "output_type": "execute_result"
    }
   ],
   "source": [
    "manha_valores = refeicao_sem_input(cafe_da_manha)\n",
    "manha_valores"
   ]
  },
  {
   "cell_type": "code",
   "execution_count": 88,
   "id": "7775e659",
   "metadata": {},
   "outputs": [
    {
     "data": {
      "text/plain": [
       "{'Calorias (Kcal)': 451.05,\n",
       " 'Carboidratos (g)': 56.84,\n",
       " 'Proteínas (g)': 38.82,\n",
       " 'Gorduras (g)': 17.96}"
      ]
     },
     "execution_count": 88,
     "metadata": {},
     "output_type": "execute_result"
    }
   ],
   "source": [
    "almoco_valores = refeicao_sem_input(almoco)\n",
    "almoco_valores"
   ]
  },
  {
   "cell_type": "code",
   "execution_count": 89,
   "id": "b6e988f4",
   "metadata": {},
   "outputs": [
    {
     "data": {
      "text/plain": [
       "{'Calorias (Kcal)': 526.17,\n",
       " 'Carboidratos (g)': 99.93,\n",
       " 'Proteínas (g)': 16.63,\n",
       " 'Gorduras (g)': 6.97}"
      ]
     },
     "execution_count": 89,
     "metadata": {},
     "output_type": "execute_result"
    }
   ],
   "source": [
    "tarde_valores = refeicao_sem_input(cafe_da_tarde)\n",
    "tarde_valores"
   ]
  },
  {
   "cell_type": "code",
   "execution_count": 90,
   "id": "f5d9a1e4",
   "metadata": {},
   "outputs": [
    {
     "data": {
      "text/plain": [
       "{'Calorias (Kcal)': 710.05,\n",
       " 'Carboidratos (g)': 48.91,\n",
       " 'Proteínas (g)': 58.15,\n",
       " 'Gorduras (g)': 32.89}"
      ]
     },
     "execution_count": 90,
     "metadata": {},
     "output_type": "execute_result"
    }
   ],
   "source": [
    "janta_valores = refeicao_sem_input(janta)\n",
    "janta_valores"
   ]
  },
  {
   "cell_type": "markdown",
   "id": "ae4d7164",
   "metadata": {},
   "source": [
    "--------"
   ]
  },
  {
   "cell_type": "code",
   "execution_count": 91,
   "id": "c66b6f78",
   "metadata": {
    "scrolled": true
   },
   "outputs": [],
   "source": [
    "#refeicoes = [cafe_da_manha, almoco, cafe_da_tarde]\n",
    "refeicoes = [manha_valores, almoco_valores, tarde_valores, janta_valores]"
   ]
  },
  {
   "cell_type": "code",
   "execution_count": 92,
   "id": "95cc2226",
   "metadata": {
    "scrolled": false
   },
   "outputs": [
    {
     "data": {
      "text/plain": [
       "[2016.27, 246.48, 132.3, 71.67]"
      ]
     },
     "execution_count": 92,
     "metadata": {},
     "output_type": "execute_result"
    }
   ],
   "source": [
    "valores_diarios = valor_diario(refeicoes)\n",
    "valores_diarios"
   ]
  },
  {
   "cell_type": "code",
   "execution_count": 93,
   "id": "a34e454a",
   "metadata": {},
   "outputs": [
    {
     "data": {
      "image/png": "[encoded data removed]",
      "text/plain": [
       "<Figure size 800x600 with 1 Axes>"
      ]
     },
     "metadata": {},
     "output_type": "display_data"
    }
   ],
   "source": [
    "plt.figure(figsize=(8,6))\n",
    "plt.bar(['Carboidratos', 'Proteínas', 'Gorduras'], valores_diarios[1:])\n",
    "plt.ylabel('gramas')\n",
    "plt.grid(axis='y', linestyle='--')"
   ]
  },
  {
   "cell_type": "code",
   "execution_count": 94,
   "id": "362f9b5b",
   "metadata": {},
   "outputs": [
    {
     "data": {
      "image/png": "[encoded data removed]",
      "text/plain": [
       "<Figure size 1000x800 with 1 Axes>"
      ]
     },
     "metadata": {},
     "output_type": "display_data"
    }
   ],
   "source": [
    "plt.figure(figsize=(10, 8))\n",
    "plt.pie(valores_diarios[1:], labels=['Carboidratos', 'Proteínas', 'Gorduras'] , autopct=\"%1.1f%%\")\n",
    "\n",
    "plt.show()\n"
   ]
  },
  {
   "cell_type": "code",
   "execution_count": 95,
   "id": "a372ae72",
   "metadata": {},
   "outputs": [
    {
     "name": "stdout",
     "output_type": "stream",
     "text": [
      "Calorias em Kcal: 2016.27\n"
     ]
    }
   ],
   "source": [
    "print('Calorias em Kcal:',valores_diarios[0])"
   ]
  },
  {
   "cell_type": "code",
   "execution_count": 96,
   "id": "6df256fd",
   "metadata": {},
   "outputs": [
    {
     "name": "stdout",
     "output_type": "stream",
     "text": [
      "Calorias (Kcal): 2016.27 \n",
      "Carboidratos (g): 246.48 \n",
      "Proteínas (g): 132.3 \n",
      "Gorduras (g): 71.67\n"
     ]
    }
   ],
   "source": [
    "print('Calorias (Kcal):',valores_diarios[0],\n",
    "      '\\nCarboidratos (g):',valores_diarios[1],\n",
    "      '\\nProteínas (g):',valores_diarios[2],\n",
    "      '\\nGorduras (g):',valores_diarios[3])"
   ]
  },
  {
   "cell_type": "markdown",
   "id": "22188a45",
   "metadata": {},
   "source": [
    "----"
   ]
  },
  {
   "cell_type": "code",
   "execution_count": 68,
   "id": "ed53d75d",
   "metadata": {},
   "outputs": [],
   "source": [
    "def add_refeicoes(valores_diarios, data_string):\n",
    "    \n",
    "    \n",
    "    data = datetime.date(year = int(data_string[4:8]),\n",
    "                         month = int(data_string[2:4]),\n",
    "                         day = int(data_string[0:2]))\n",
    "    \n",
    "    data_br = data.strftime(\"%d-%m-%Y\")\n",
    "    nova_linha = {\n",
    "        'Data': data_br,\n",
    "        'Kcal': valores_diarios[0],\n",
    "        'Carb': valores_diarios[1],\n",
    "        'Prot': valores_diarios[2],\n",
    "        'Gord': valores_diarios[3],\n",
    "    }\n",
    "    return nova_linha"
   ]
  },
  {
   "cell_type": "code",
   "execution_count": 97,
   "id": "e3efae66",
   "metadata": {},
   "outputs": [],
   "source": [
    "nova_linha = add_refeicoes(valores_diarios, '18062024')\n",
    "nova_linha = pd.DataFrame([nova_linha])"
   ]
  },
  {
   "cell_type": "code",
   "execution_count": null,
   "id": "675a8106",
   "metadata": {},
   "outputs": [],
   "source": [
    "#importar dataset com macros_diarios\n",
    "macros_diarios = pd.read_csv('macros_diarios.csv')\n",
    "macros_diarios"
   ]
  },
  {
   "cell_type": "code",
   "execution_count": 98,
   "id": "001a2832",
   "metadata": {},
   "outputs": [
    {
     "data": {
      "text/html": [
       "<div>\n",
       "<style scoped>\n",
       "    .dataframe tbody tr th:only-of-type {\n",
       "        vertical-align: middle;\n",
       "    }\n",
       "\n",
       "    .dataframe tbody tr th {\n",
       "        vertical-align: top;\n",
       "    }\n",
       "\n",
       "    .dataframe thead th {\n",
       "        text-align: right;\n",
       "    }\n",
       "</style>\n",
       "<table border=\"1\" class=\"dataframe\">\n",
       "  <thead>\n",
       "    <tr style=\"text-align: right;\">\n",
       "      <th></th>\n",
       "      <th>Data</th>\n",
       "      <th>Kcal</th>\n",
       "      <th>Carb</th>\n",
       "      <th>Prot</th>\n",
       "      <th>Gord</th>\n",
       "    </tr>\n",
       "  </thead>\n",
       "  <tbody>\n",
       "    <tr>\n",
       "      <th>0</th>\n",
       "      <td>17-06-2024</td>\n",
       "      <td>2233.49</td>\n",
       "      <td>258.29</td>\n",
       "      <td>184.88</td>\n",
       "      <td>68.88</td>\n",
       "    </tr>\n",
       "    <tr>\n",
       "      <th>1</th>\n",
       "      <td>18-06-2024</td>\n",
       "      <td>2016.27</td>\n",
       "      <td>246.48</td>\n",
       "      <td>132.30</td>\n",
       "      <td>71.67</td>\n",
       "    </tr>\n",
       "  </tbody>\n",
       "</table>\n",
       "</div>"
      ],
      "text/plain": [
       "         Data     Kcal    Carb    Prot   Gord\n",
       "0  17-06-2024  2233.49  258.29  184.88  68.88\n",
       "1  18-06-2024  2016.27  246.48  132.30  71.67"
      ]
     },
     "execution_count": 98,
     "metadata": {},
     "output_type": "execute_result"
    }
   ],
   "source": [
    "macros_diarios = pd.concat([macros_diarios, nova_linha], ignore_index=True)\n",
    "macros_diarios"
   ]
  },
  {
   "cell_type": "code",
   "execution_count": 79,
   "id": "43951fd5",
   "metadata": {},
   "outputs": [],
   "source": [
    "#salvar o dataframe atualizado\n",
    "macros_diarios.to_csv('macros_diarios.csv', index=False)"
   ]
  }
 ],
 "metadata": {
  "kernelspec": {
   "display_name": "Python 3 (ipykernel)",
   "language": "python",
   "name": "python3"
  },
  "language_info": {
   "codemirror_mode": {
    "name": "ipython",
    "version": 3
   },
   "file_extension": ".py",
   "mimetype": "text/x-python",
   "name": "python",
   "nbconvert_exporter": "python",
   "pygments_lexer": "ipython3",
   "version": "3.11.4"
  }
 },
 "nbformat": 4,
 "nbformat_minor": 5
}
